{
 "cells": [
  {
   "cell_type": "code",
   "execution_count": 1,
   "metadata": {
    "ExecuteTime": {
     "end_time": "2020-08-17T05:32:44.169735Z",
     "start_time": "2020-08-17T05:32:43.906129Z"
    }
   },
   "outputs": [
    {
     "name": "stdout",
     "output_type": "stream",
     "text": [
      "City                 bad        cubes\n",
      "st_peterburg         1     <     2\n",
      "bogota               1     <     2\n",
      "kinshasa             1     <     2\n",
      "------------------------------\n",
      "istanbul             3     >     2\n",
      "cairo                3     >     2\n",
      "jacksonville         3     >     2\n",
      "chicago              2     >     1\n",
      "denver               2     >     1\n",
      "sao_paolo            3     >     2\n",
      "tehran               1     >     0\n",
      "mumbai               2     >     0\n"
     ]
    }
   ],
   "source": [
    "from engine  import Board\n",
    "from game_setup import LIST_CITIES_CARDS_CUBES, CHECK_SETUP_CORRECTNESS, SET_CITIES_AS_VARIABLES\n",
    "\n",
    "CHECK_SETUP_CORRECTNESS(30, LIST_CITIES_CARDS_CUBES)\n",
    "SET_CITIES_AS_VARIABLES(LIST_CITIES_CARDS_CUBES, globals())"
   ]
  },
  {
   "cell_type": "markdown",
   "metadata": {},
   "source": [
    "# Board setup"
   ]
  },
  {
   "cell_type": "code",
   "execution_count": 2,
   "metadata": {
    "ExecuteTime": {
     "end_time": "2020-08-17T05:32:44.213492Z",
     "start_time": "2020-08-17T05:32:44.209302Z"
    }
   },
   "outputs": [
    {
     "name": "stdout",
     "output_type": "stream",
     "text": [
      "Num good cards: 67, num_epidemic: 10\n"
     ]
    }
   ],
   "source": [
    "board = Board(LIST_CITIES_CARDS_CUBES, [ 'Polina', 'Marina', 'Sasha', 'Pasha',   ], 0)\n",
    "\n",
    "board.draw(frankfurt, baghdad, london, \n",
    "           washington, new_york, new_york,\n",
    "           jacksonville, istanbul, istanbul)"
   ]
  }
 ],
 "metadata": {
  "kernelspec": {
   "display_name": "Python 3",
   "language": "python",
   "name": "python3"
  },
  "language_info": {
   "codemirror_mode": {
    "name": "ipython",
    "version": 3
   },
   "file_extension": ".py",
   "mimetype": "text/x-python",
   "name": "python",
   "nbconvert_exporter": "python",
   "pygments_lexer": "ipython3",
   "version": "3.7.6"
  },
  "toc": {
   "base_numbering": 1,
   "nav_menu": {},
   "number_sections": true,
   "sideBar": true,
   "skip_h1_title": false,
   "title_cell": "Table of Contents",
   "title_sidebar": "Contents",
   "toc_cell": false,
   "toc_position": {},
   "toc_section_display": true,
   "toc_window_display": false
  }
 },
 "nbformat": 4,
 "nbformat_minor": 4
}
