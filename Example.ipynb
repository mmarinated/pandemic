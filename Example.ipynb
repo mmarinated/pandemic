{
 "cells": [
  {
   "cell_type": "code",
   "execution_count": 1,
   "metadata": {
    "ExecuteTime": {
     "end_time": "2020-08-16T21:58:31.665127Z",
     "start_time": "2020-08-16T21:58:31.391954Z"
    }
   },
   "outputs": [
    {
     "name": "stdout",
     "output_type": "stream",
     "text": [
      "City                 bad        cubes\n",
      "moscow               1           2\n",
      "------------------------------\n",
      "tripoli              3           2\n",
      "istanbul             3           2\n",
      "cairo                3           2\n",
      "jacksonville         3           2\n",
      "chicago              2           1\n",
      "denver               2           1\n",
      "london               3           2\n",
      "sao_paolo            3           2\n",
      "lagos                3           2\n"
     ]
    }
   ],
   "source": [
    "from engine  import Board\n",
    "from game_setup import LIST_CITIES_CARDS_CUBES, CHECK_SETUP_CORRECTNESS, SET_CITIES_AS_VARIABLES\n",
    "\n",
    "CHECK_SETUP_CORRECTNESS(36, LIST_CITIES_CARDS_CUBES)\n",
    "SET_CITIES_AS_VARIABLES(LIST_CITIES_CARDS_CUBES, globals())"
   ]
  },
  {
   "cell_type": "markdown",
   "metadata": {},
   "source": [
    "# Board setup"
   ]
  },
  {
   "cell_type": "code",
   "execution_count": 2,
   "metadata": {
    "ExecuteTime": {
     "end_time": "2020-08-16T21:58:31.671504Z",
     "start_time": "2020-08-16T21:58:31.667363Z"
    }
   },
   "outputs": [
    {
     "name": "stdout",
     "output_type": "stream",
     "text": [
      "Num good cards: 58, num_epidemic: 9\n"
     ]
    }
   ],
   "source": [
    "board = Board(LIST_CITIES_CARDS_CUBES, [ 'Marina', 'Sasha', 'Pasha',  'Polina',  ], 4)\n",
    "\n",
    "board.draw(frankfurt, san_francisco, chicago,\n",
    "           kinshasa, bogota, london,\n",
    "           denver, london, jacksonville)"
   ]
  }
 ],
 "metadata": {
  "kernelspec": {
   "display_name": "Python 3",
   "language": "python",
   "name": "python3"
  },
  "language_info": {
   "codemirror_mode": {
    "name": "ipython",
    "version": 3
   },
   "file_extension": ".py",
   "mimetype": "text/x-python",
   "name": "python",
   "nbconvert_exporter": "python",
   "pygments_lexer": "ipython3",
   "version": "3.7.6"
  },
  "toc": {
   "base_numbering": 1,
   "nav_menu": {},
   "number_sections": true,
   "sideBar": true,
   "skip_h1_title": false,
   "title_cell": "Table of Contents",
   "title_sidebar": "Contents",
   "toc_cell": false,
   "toc_position": {},
   "toc_section_display": true,
   "toc_window_display": false
  }
 },
 "nbformat": 4,
 "nbformat_minor": 4
}
