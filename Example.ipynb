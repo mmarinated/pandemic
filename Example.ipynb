{
 "cells": [
  {
   "cell_type": "code",
   "execution_count": 1,
   "metadata": {
    "ExecuteTime": {
     "end_time": "2020-08-15T06:08:59.061021Z",
     "start_time": "2020-08-15T06:08:58.796229Z"
    }
   },
   "outputs": [
    {
     "name": "stdout",
     "output_type": "stream",
     "text": [
      "City=st_peterburg has bad=1, cubes=2\n",
      "City=moscow has bad=1, cubes=2\n"
     ]
    }
   ],
   "source": [
    "from engine  import Board\n",
    "from game_setup import LIST_CITIES_CARDS_CUBES, CHECK_SETUP_CORRECTNESS, SET_CITIES_AS_VARIABLES\n",
    "\n",
    "CHECK_SETUP_CORRECTNESS(39, LIST_CITIES_CARDS_CUBES)\n",
    "SET_CITIES_AS_VARIABLES(LIST_CITIES_CARDS_CUBES, globals())"
   ]
  },
  {
   "cell_type": "markdown",
   "metadata": {},
   "source": [
    "# Board setup"
   ]
  },
  {
   "cell_type": "code",
   "execution_count": 2,
   "metadata": {
    "ExecuteTime": {
     "end_time": "2020-08-15T06:08:59.067132Z",
     "start_time": "2020-08-15T06:08:59.063307Z"
    }
   },
   "outputs": [
    {
     "name": "stdout",
     "output_type": "stream",
     "text": [
      "Num good cards: 57, num_epidemic: 8\n"
     ]
    }
   ],
   "source": [
    "board = Board(LIST_CITIES_CARDS_CUBES, [ 'Pasha',  'Marina', 'Polina', 'Sasha', ], 6)\n",
    "board.draw(frankfurt, paris, chicago,\n",
    "           san_francisco, buenos_aires, denver,\n",
    "           cairo, new_york, jacksonville)"
   ]
  }
 ],
 "metadata": {
  "kernelspec": {
   "display_name": "Python 3",
   "language": "python",
   "name": "python3"
  },
  "language_info": {
   "codemirror_mode": {
    "name": "ipython",
    "version": 3
   },
   "file_extension": ".py",
   "mimetype": "text/x-python",
   "name": "python",
   "nbconvert_exporter": "python",
   "pygments_lexer": "ipython3",
   "version": "3.7.6"
  },
  "toc": {
   "base_numbering": 1,
   "nav_menu": {},
   "number_sections": true,
   "sideBar": true,
   "skip_h1_title": false,
   "title_cell": "Table of Contents",
   "title_sidebar": "Contents",
   "toc_cell": false,
   "toc_position": {},
   "toc_section_display": true,
   "toc_window_display": false
  }
 },
 "nbformat": 4,
 "nbformat_minor": 4
}
