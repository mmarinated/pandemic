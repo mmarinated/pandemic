{
 "cells": [
  {
   "cell_type": "code",
   "execution_count": 1,
   "metadata": {
    "ExecuteTime": {
     "end_time": "2020-08-05T04:20:17.751182Z",
     "start_time": "2020-08-05T04:20:17.746623Z"
    }
   },
   "outputs": [],
   "source": [
    "from engine  import Board\n",
    "from game_setup import LIST_CITIES_CARDS_CUBES, CHECK_SETUP_CORRECTNESS, SET_CITIES_AS_VARIABLES\n",
    "\n",
    "CHECK_SETUP_CORRECTNESS(30, LIST_CITIES_CARDS_CUBES)\n",
    "SET_CITIES_AS_VARIABLES(LIST_CITIES_CARDS_CUBES, globals())"
   ]
  },
  {
   "cell_type": "markdown",
   "metadata": {},
   "source": [
    "# Board setup"
   ]
  },
  {
   "cell_type": "code",
   "execution_count": 2,
   "metadata": {
    "ExecuteTime": {
     "end_time": "2020-08-05T04:20:17.759272Z",
     "start_time": "2020-08-05T04:20:17.753294Z"
    }
   },
   "outputs": [],
   "source": [
    "board = Board(LIST_CITIES_CARDS_CUBES)\n",
    "board.draw(lagos, atlanta, new_york, denver, cairo, jacksonville, chicago, london, tripoli)"
   ]
  },
  {
   "cell_type": "code",
   "execution_count": 3,
   "metadata": {
    "ExecuteTime": {
     "end_time": "2020-08-05T04:20:17.774152Z",
     "start_time": "2020-08-05T04:20:17.761076Z"
    }
   },
   "outputs": [],
   "source": [
    "board"
   ]
  },
  {
   "cell_type": "markdown",
   "metadata": {},
   "source": [
    "# Round 1"
   ]
  },
  {
   "cell_type": "code",
   "execution_count": 4,
   "metadata": {
    "ExecuteTime": {
     "end_time": "2020-08-05T04:20:18.098849Z",
     "start_time": "2020-08-05T04:20:18.093621Z"
    }
   },
   "outputs": [],
   "source": [
    "board.add(atlanta)\n",
    "board.draw(washington, tripoli)"
   ]
  },
  {
   "cell_type": "code",
   "execution_count": 5,
   "metadata": {
    "ExecuteTime": {
     "end_time": "2020-08-05T04:20:18.311443Z",
     "start_time": "2020-08-05T04:20:18.304431Z"
    }
   },
   "outputs": [],
   "source": [
    "board.add(tripoli, 2)\n",
    "board.add(lagos)\n",
    "board.draw(cairo, sao_paolo)"
   ]
  },
  {
   "cell_type": "code",
   "execution_count": 6,
   "metadata": {
    "ExecuteTime": {
     "end_time": "2020-08-05T04:20:18.640582Z",
     "start_time": "2020-08-05T04:20:18.634543Z"
    }
   },
   "outputs": [],
   "source": [
    "board.draw(london, washington)"
   ]
  },
  {
   "cell_type": "code",
   "execution_count": 7,
   "metadata": {
    "ExecuteTime": {
     "end_time": "2020-08-05T04:20:18.965113Z",
     "start_time": "2020-08-05T04:20:18.954439Z"
    }
   },
   "outputs": [
    {
     "data": {
      "text/plain": [
       "[('cairo', 2),\n",
       " ('london', 2),\n",
       " ('tripoli', 2),\n",
       " ('washington', 2),\n",
       " ('lagos', 1),\n",
       " ('atlanta', 1),\n",
       " ('new_york', 1),\n",
       " ('denver', 1),\n",
       " ('jacksonville', 1),\n",
       " ('chicago', 1),\n",
       " ('sao_paolo', 1)]"
      ]
     },
     "execution_count": 7,
     "metadata": {},
     "output_type": "execute_result"
    }
   ],
   "source": [
    "board.discarded_cards"
   ]
  },
  {
   "cell_type": "code",
   "execution_count": 8,
   "metadata": {
    "ExecuteTime": {
     "end_time": "2020-08-05T04:20:19.577436Z",
     "start_time": "2020-08-05T04:20:19.566912Z"
    }
   },
   "outputs": [
    {
     "name": "stdout",
     "output_type": "stream",
     "text": [
      "Place a plague cube\n"
     ]
    }
   ],
   "source": [
    "board.add(london, 2)\n",
    "board.epidemic(tripoli)\n",
    "board.draw(tripoli, new_york)"
   ]
  },
  {
   "cell_type": "code",
   "execution_count": null,
   "metadata": {},
   "outputs": [],
   "source": []
  }
 ],
 "metadata": {
  "kernelspec": {
   "display_name": "Python 3",
   "language": "python",
   "name": "python3"
  },
  "language_info": {
   "codemirror_mode": {
    "name": "ipython",
    "version": 3
   },
   "file_extension": ".py",
   "mimetype": "text/x-python",
   "name": "python",
   "nbconvert_exporter": "python",
   "pygments_lexer": "ipython3",
   "version": "3.7.6"
  },
  "toc": {
   "base_numbering": 1,
   "nav_menu": {},
   "number_sections": true,
   "sideBar": true,
   "skip_h1_title": false,
   "title_cell": "Table of Contents",
   "title_sidebar": "Contents",
   "toc_cell": false,
   "toc_position": {},
   "toc_section_display": true,
   "toc_window_display": false
  }
 },
 "nbformat": 4,
 "nbformat_minor": 4
}
