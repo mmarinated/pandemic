{
 "cells": [
  {
   "cell_type": "code",
   "execution_count": 1,
   "metadata": {
    "ExecuteTime": {
     "end_time": "2020-08-14T00:19:34.601681Z",
     "start_time": "2020-08-14T00:19:34.330215Z"
    }
   },
   "outputs": [],
   "source": [
    "from engine  import Board\n",
    "from game_setup import LIST_CITIES_CARDS_CUBES, CHECK_SETUP_CORRECTNESS, SET_CITIES_AS_VARIABLES\n",
    "\n",
    "CHECK_SETUP_CORRECTNESS(42, LIST_CITIES_CARDS_CUBES)\n",
    "SET_CITIES_AS_VARIABLES(LIST_CITIES_CARDS_CUBES, globals())"
   ]
  },
  {
   "cell_type": "markdown",
   "metadata": {},
   "source": [
    "# Board setup"
   ]
  },
  {
   "cell_type": "code",
   "execution_count": 2,
   "metadata": {
    "ExecuteTime": {
     "end_time": "2020-08-14T00:19:34.607437Z",
     "start_time": "2020-08-14T00:19:34.603190Z"
    }
   },
   "outputs": [
    {
     "name": "stdout",
     "output_type": "stream",
     "text": [
      "Num good cards: 52, num_epidemic: 8\n"
     ]
    }
   ],
   "source": [
    "board = Board(LIST_CITIES_CARDS_CUBES, ['Polina', 'Sasha', 'Marina',  'Pasha',], 8)\n",
    "board.draw(los_angeles, sao_paolo, cairo, \n",
    "           denver, sao_paolo, istanbul,\n",
    "           washington, cairo, istanbul)"
   ]
  }
 ],
 "metadata": {
  "kernelspec": {
   "display_name": "Python 3",
   "language": "python",
   "name": "python3"
  },
  "language_info": {
   "codemirror_mode": {
    "name": "ipython",
    "version": 3
   },
   "file_extension": ".py",
   "mimetype": "text/x-python",
   "name": "python",
   "nbconvert_exporter": "python",
   "pygments_lexer": "ipython3",
   "version": "3.7.6"
  },
  "toc": {
   "base_numbering": 1,
   "nav_menu": {},
   "number_sections": true,
   "sideBar": true,
   "skip_h1_title": false,
   "title_cell": "Table of Contents",
   "title_sidebar": "Contents",
   "toc_cell": false,
   "toc_position": {},
   "toc_section_display": true,
   "toc_window_display": false
  }
 },
 "nbformat": 4,
 "nbformat_minor": 4
}
